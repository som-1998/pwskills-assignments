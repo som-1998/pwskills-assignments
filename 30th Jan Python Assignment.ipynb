{
 "cells": [
  {
   "cell_type": "markdown",
   "id": "31cc8036-4e66-448e-ba65-7c19e161567d",
   "metadata": {},
   "source": [
    "1. Write a program to accept percentage from the user and display the grade according to the following "
   ]
  },
  {
   "cell_type": "code",
   "execution_count": 5,
   "id": "412c2162-52b4-4662-97d6-0af703bff7f0",
   "metadata": {},
   "outputs": [
    {
     "name": "stdin",
     "output_type": "stream",
     "text": [
      "what is your percentage:  6\n"
     ]
    },
    {
     "name": "stdout",
     "output_type": "stream",
     "text": [
      "D\n"
     ]
    }
   ],
   "source": [
    "percentage = int(input('what is your percentage: '))\n",
    "if percentage > 90 : print('A')\n",
    "elif (percentage > 80 and percentage <=90 ) : print('B')\n",
    "elif percentage >= 60 and percentage <=80 : print('C')\n",
    "else : print('D')"
   ]
  },
  {
   "cell_type": "code",
   "execution_count": null,
   "id": "c780a513-8a6d-450f-bf91-4e612d4612b3",
   "metadata": {},
   "outputs": [],
   "source": []
  },
  {
   "cell_type": "markdown",
   "id": "f7488236-f897-42a3-8769-411b55ad4c47",
   "metadata": {},
   "source": [
    "2. Write a program to accept the cost price of a bike and display the road tax to be paid according to the criteria."
   ]
  },
  {
   "cell_type": "code",
   "execution_count": 8,
   "id": "2fa84ce7-fd7a-4145-aee8-720e3ac927f3",
   "metadata": {},
   "outputs": [
    {
     "name": "stdin",
     "output_type": "stream",
     "text": [
      "Cost price of the bike:  40000\n"
     ]
    },
    {
     "name": "stdout",
     "output_type": "stream",
     "text": [
      "Tax to be paid=  2000.0\n"
     ]
    }
   ],
   "source": [
    "cost = int(input('Cost price of the bike: '))\n",
    "\n",
    "if cost > 100000 : \n",
    "    print('Tax to be paid= ', cost*15/100)\n",
    "elif cost > 50000 and cost <= 100000: \n",
    "    print('Tax to be paid= ', cost*10/100)\n",
    "else :\n",
    "    print('Tax to be paid= ', cost*5/100)"
   ]
  },
  {
   "cell_type": "code",
   "execution_count": null,
   "id": "e731eebb-e896-462a-9d1e-f8f98981bcb6",
   "metadata": {},
   "outputs": [],
   "source": []
  },
  {
   "cell_type": "markdown",
   "id": "70d27918-a2b3-49f8-a548-80674ccb1d94",
   "metadata": {},
   "source": [
    "3. Accept any city from the user and display monuments of that city. "
   ]
  },
  {
   "cell_type": "code",
   "execution_count": 12,
   "id": "d60ed1df-d1c6-4808-8587-b13007426d53",
   "metadata": {},
   "outputs": [
    {
     "name": "stdin",
     "output_type": "stream",
     "text": [
      "Type your city name:  Delhi\n"
     ]
    },
    {
     "name": "stdout",
     "output_type": "stream",
     "text": [
      "Red Fort\n"
     ]
    }
   ],
   "source": [
    "city = input('Type your city name: ')\n",
    "\n",
    "if city == 'Delhi' :\n",
    "    print('Red Fort')\n",
    "elif city == 'Agra' :\n",
    "    print('Taj Mahal')\n",
    "elif city == 'Jaipur' :\n",
    "    print('Jal Mahal')\n",
    "else: print(\"Don't know\")\n",
    "    "
   ]
  },
  {
   "cell_type": "code",
   "execution_count": null,
   "id": "1c3cbfcf-bafe-4875-9b74-fa4870852b14",
   "metadata": {},
   "outputs": [],
   "source": []
  },
  {
   "cell_type": "markdown",
   "id": "1d1c0627-ceed-48c5-a36c-515d24dd11c6",
   "metadata": {},
   "source": [
    "4. Check how many times a given number can be divided by 3 before it is less than or equal to 10. "
   ]
  },
  {
   "cell_type": "code",
   "execution_count": 18,
   "id": "8d60a79e-3bbc-46f6-bcce-11db8e52cc21",
   "metadata": {},
   "outputs": [
    {
     "name": "stdin",
     "output_type": "stream",
     "text": [
      " 123\n"
     ]
    },
    {
     "name": "stdout",
     "output_type": "stream",
     "text": [
      "This number can be devided 3 times before it is less than equal to 10.\n"
     ]
    }
   ],
   "source": [
    "number = int(input())\n",
    "count = 0\n",
    "\n",
    "while number >10 :\n",
    "    number = number//3\n",
    "    count +=1\n",
    "    \n",
    "print('This number can be devided', count ,'times before it is less than equal to 10.')"
   ]
  },
  {
   "cell_type": "code",
   "execution_count": null,
   "id": "1f26f7d6-3454-42df-b94a-04150ae0f73c",
   "metadata": {},
   "outputs": [],
   "source": []
  },
  {
   "cell_type": "markdown",
   "id": "aeaa5423-1e51-4954-b1ad-2cbec242a18c",
   "metadata": {},
   "source": [
    "7. Reverse a while loop to display numbers from 10 to 1. "
   ]
  },
  {
   "cell_type": "code",
   "execution_count": 22,
   "id": "3c178a73-3a5a-44d6-8d3e-e8dfc6aa2f33",
   "metadata": {},
   "outputs": [
    {
     "name": "stdout",
     "output_type": "stream",
     "text": [
      "10\n",
      "9\n",
      "8\n",
      "7\n",
      "6\n",
      "5\n",
      "4\n",
      "3\n",
      "2\n",
      "1\n"
     ]
    }
   ],
   "source": [
    "n = 10\n",
    "\n",
    "while n > 0:\n",
    "    print(n)\n",
    "    n -= 1\n",
    "    "
   ]
  }
 ],
 "metadata": {
  "kernelspec": {
   "display_name": "Python 3 (ipykernel)",
   "language": "python",
   "name": "python3"
  },
  "language_info": {
   "codemirror_mode": {
    "name": "ipython",
    "version": 3
   },
   "file_extension": ".py",
   "mimetype": "text/x-python",
   "name": "python",
   "nbconvert_exporter": "python",
   "pygments_lexer": "ipython3",
   "version": "3.10.6"
  }
 },
 "nbformat": 4,
 "nbformat_minor": 5
}
