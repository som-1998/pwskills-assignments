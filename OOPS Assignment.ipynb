{
 "cells": [
  {
   "cell_type": "markdown",
   "id": "d65b4a4c-ed91-4988-b0f2-ce77ed46d99c",
   "metadata": {},
   "source": [
    "Q1. Explain Class and Object with respect to Object-Oriented Programming. Give a suitable example."
   ]
  },
  {
   "cell_type": "code",
   "execution_count": 1,
   "id": "22bec7f7-3d6a-4092-9880-65377a387b1a",
   "metadata": {},
   "outputs": [],
   "source": [
    "class somnath :\n",
    "    def __init__(self, state, country, location ) :\n",
    "        self.__state = state\n",
    "        self.__country = country\n",
    "        self.__location = location\n",
    "        \n",
    "    def set_loc(self,location):\n",
    "        self.__location = location \n",
    "        \n",
    "    def get_loc(self):\n",
    "        return self.__location"
   ]
  },
  {
   "cell_type": "code",
   "execution_count": 2,
   "id": "59293260-4807-4aa1-804b-d5b9328ec948",
   "metadata": {},
   "outputs": [],
   "source": [
    "s = somnath('wb','india','india')"
   ]
  },
  {
   "cell_type": "code",
   "execution_count": 3,
   "id": "d9972382-2752-48ef-a418-72103457474a",
   "metadata": {},
   "outputs": [],
   "source": [
    "s.set_loc('us')"
   ]
  },
  {
   "cell_type": "code",
   "execution_count": 4,
   "id": "37c0f318-7d1e-44a7-9c96-2556528bcccb",
   "metadata": {},
   "outputs": [
    {
     "data": {
      "text/plain": [
       "'us'"
      ]
     },
     "execution_count": 4,
     "metadata": {},
     "output_type": "execute_result"
    }
   ],
   "source": [
    "s.get_loc()"
   ]
  },
  {
   "cell_type": "markdown",
   "id": "517cc0ae-2661-458d-ae39-1138bf1a9320",
   "metadata": {},
   "source": [
    "Here, somnath() is a class and 's' is a class object."
   ]
  },
  {
   "cell_type": "code",
   "execution_count": null,
   "id": "852e2b5a-2bd9-4f72-ab3e-bd3aba574b3e",
   "metadata": {},
   "outputs": [],
   "source": []
  },
  {
   "cell_type": "markdown",
   "id": "2ff9b0a7-2e1e-4957-b8d1-2b82123ae82b",
   "metadata": {},
   "source": [
    "Q2. Name the four pillars of OOPs."
   ]
  },
  {
   "cell_type": "markdown",
   "id": "3ee27de0-0d63-4e0a-9ef5-ad80b1ecd641",
   "metadata": {},
   "source": [
    "Ans: there are four major pillars in oops.Inheritance, Polymorphism, Encapsulation and Abstraction.\n"
   ]
  },
  {
   "cell_type": "code",
   "execution_count": null,
   "id": "b9450247-2bfe-4c0e-8bc1-2ab65763316a",
   "metadata": {},
   "outputs": [],
   "source": []
  },
  {
   "cell_type": "markdown",
   "id": "3cb3aee7-881a-4f7b-8322-d4165f3d72fe",
   "metadata": {},
   "source": [
    "Q3. Explain why the __init__() function is used. Give a suitable example."
   ]
  },
  {
   "cell_type": "markdown",
   "id": "f22de5e8-5234-4043-b72c-27c0cb7106a9",
   "metadata": {},
   "source": [
    "Ans: It is used to give the inputs in a particular class."
   ]
  },
  {
   "cell_type": "code",
   "execution_count": null,
   "id": "27089cf2-7e20-4e2a-8142-27f7eec5335e",
   "metadata": {},
   "outputs": [],
   "source": []
  },
  {
   "cell_type": "raw",
   "id": "de8f8333-5e4e-4cb0-b138-56b7c35d7b64",
   "metadata": {},
   "source": [
    "Q4. Why self is used in OOPs?"
   ]
  },
  {
   "cell_type": "markdown",
   "id": "109a0fd7-b6cc-4a0a-95b1-a61609176650",
   "metadata": {},
   "source": [
    "Ans: It works as a pointer to the class."
   ]
  },
  {
   "cell_type": "code",
   "execution_count": null,
   "id": "ac55e57c-8b47-4a7d-8eb7-5e1f544d88e1",
   "metadata": {},
   "outputs": [],
   "source": []
  },
  {
   "cell_type": "markdown",
   "id": "bc3c4a43-1e8b-450d-a7fb-e7c2c6b6770c",
   "metadata": {},
   "source": [
    "Q5. What is inheritance? Give an example for each type of inheritance."
   ]
  },
  {
   "cell_type": "markdown",
   "id": "63bba6ac-3d21-49fa-876d-e5297ec7e405",
   "metadata": {},
   "source": [
    "Ans: There are five types of inheritance.Single Inheritance. Multiple Inheritance. Multilevel Inheritance. Hierarchical Inheritance. Hybrid Inheritance."
   ]
  },
  {
   "cell_type": "code",
   "execution_count": null,
   "id": "58cdd12e-d55c-4593-bc4b-6c989a405667",
   "metadata": {},
   "outputs": [],
   "source": []
  }
 ],
 "metadata": {
  "kernelspec": {
   "display_name": "Python 3 (ipykernel)",
   "language": "python",
   "name": "python3"
  },
  "language_info": {
   "codemirror_mode": {
    "name": "ipython",
    "version": 3
   },
   "file_extension": ".py",
   "mimetype": "text/x-python",
   "name": "python",
   "nbconvert_exporter": "python",
   "pygments_lexer": "ipython3",
   "version": "3.10.6"
  }
 },
 "nbformat": 4,
 "nbformat_minor": 5
}
